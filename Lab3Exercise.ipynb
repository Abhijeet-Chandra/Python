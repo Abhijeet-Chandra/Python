{
 "cells": [
  {
   "cell_type": "code",
   "execution_count": 23,
   "id": "4a37f834-712e-43ae-9b7d-6eca3a689d4f",
   "metadata": {},
   "outputs": [
    {
     "name": "stdout",
     "output_type": "stream",
     "text": [
      "New array of random integers: \n",
      "[[23 23  2 39]\n",
      " [24 36  6  5]\n",
      " [38 12 24 40]]\n"
     ]
    }
   ],
   "source": [
    "#Generating a 3X4 NumPy array with random integers between 1 and 50\n",
    "import numpy as np\n",
    "arr1 = np.random.randint(0,50,size=(3,4))\n",
    "print(\"New array of random integers: \")\n",
    "print(arr1)"
   ]
  },
  {
   "cell_type": "code",
   "execution_count": 31,
   "id": "c3846f0a-c16c-4c4f-8c8b-ee04a8c733a8",
   "metadata": {},
   "outputs": [
    {
     "name": "stdout",
     "output_type": "stream",
     "text": [
      "Mean is:  22.666666666666668\n",
      "Median is:  23.5\n",
      "Standard deviation is:  13.274871834493252\n"
     ]
    }
   ],
   "source": [
    "#mean\n",
    "print(\"Mean is: \", arr1.mean())\n",
    "#Median\n",
    "print(\"Median is: \", np.median(arr1))\n",
    "#Standard Deviation\n",
    "print(\"Standard deviation is: \", arr1.std())"
   ]
  },
  {
   "cell_type": "code",
   "execution_count": 47,
   "id": "8db7cec0-32ae-47ad-bcdb-4c191ddd1b72",
   "metadata": {},
   "outputs": [
    {
     "name": "stdout",
     "output_type": "stream",
     "text": [
      "Sum of all elements is:  272\n",
      "Sum of 1 row is:  87\n",
      "Sum of 2 row is:  71\n",
      "Sum of 3 row is:  114\n"
     ]
    }
   ],
   "source": [
    "#sum of all elements:\n",
    "print(\"Sum of all elements is: \", arr1.sum())\n",
    "#sum of each row:\n",
    "row_sums = arr1.sum(axis=1)\n",
    "a=1\n",
    "for i in row_sums:\n",
    "    print(f\"Sum of {a} row is: \", i)\n",
    "    a+=1;"
   ]
  },
  {
   "cell_type": "code",
   "execution_count": 53,
   "id": "9aad5590-ec44-413d-92ac-9b4118d12fca",
   "metadata": {},
   "outputs": [
    {
     "name": "stdout",
     "output_type": "stream",
     "text": [
      "After reshaping to 2 X 6, array is:  [[23 23  2 39 24 36]\n",
      " [ 6  5 38 12 24 40]]\n"
     ]
    }
   ],
   "source": [
    "#reshape\n",
    "print(\"After reshaping to 2 X 6, array is: \", arr1.reshape(2,6))"
   ]
  },
  {
   "cell_type": "code",
   "execution_count": 79,
   "id": "972297db-cd78-41d0-a3e8-6a4587f932bb",
   "metadata": {},
   "outputs": [
    {
     "name": "stdout",
     "output_type": "stream",
     "text": [
      "Sum:\n",
      " [[11 13 15]\n",
      " [17 19 21]\n",
      " [23 25 27]]\n"
     ]
    }
   ],
   "source": [
    "import numpy as np\n",
    "\n",
    "\n",
    "arr1 = np.array([[1, 2, 3], [4, 5, 6],[7,8,9]])\n",
    "arr2 = np.array([[10,11,12],[13,14,15],[16,17,18]])\n",
    "\n",
    "\n",
    "print(\"Sum:\\n\", arr1 + arr2)\n"
   ]
  },
  {
   "cell_type": "code",
   "execution_count": 81,
   "id": "e42dccbe-85bd-4f94-b053-ea0c6ea552f2",
   "metadata": {},
   "outputs": [
    {
     "name": "stdout",
     "output_type": "stream",
     "text": [
      "Difference:\n",
      " [[-9 -9 -9]\n",
      " [-9 -9 -9]\n",
      " [-9 -9 -9]]\n"
     ]
    }
   ],
   "source": [
    "import numpy as np\n",
    "\n",
    "\n",
    "arr1 = np.array([[1, 2, 3], [4, 5, 6],[7,8,9]])\n",
    "arr2 = np.array([[10,11,12],[13,14,15],[16,17,18]])\n",
    "\n",
    "\n",
    "print(\"Difference:\\n\", arr1 - arr2)"
   ]
  },
  {
   "cell_type": "code",
   "execution_count": 83,
   "id": "29df1548-b361-417f-ab4c-05e63903e25a",
   "metadata": {},
   "outputs": [
    {
     "name": "stdout",
     "output_type": "stream",
     "text": [
      "Product is:\n",
      " [[ 84  90  96]\n",
      " [201 216 231]\n",
      " [318 342 366]]\n"
     ]
    }
   ],
   "source": [
    "import numpy as np\n",
    "\n",
    "\n",
    "arr1 = np.array([[1, 2, 3], [4, 5, 6],[7,8,9]])\n",
    "arr2 = np.array([[10,11,12],[13,14,15],[16,17,18]])\n",
    "\n",
    "\n",
    "print(\"Product is:\\n\", np.dot(arr1,arr2))"
   ]
  },
  {
   "cell_type": "code",
   "execution_count": 85,
   "id": "a565ee77-10f9-4046-a7bb-8f65ecf39504",
   "metadata": {},
   "outputs": [
    {
     "name": "stdout",
     "output_type": "stream",
     "text": [
      "Transpose of array 1:  [[1 4 7]\n",
      " [2 5 8]\n",
      " [3 6 9]]\n",
      "Transpose of array 2:  [[10 13 16]\n",
      " [11 14 17]\n",
      " [12 15 18]]\n"
     ]
    }
   ],
   "source": [
    "print(\"Transpose of array 1: \", arr1.T)\n",
    "print(\"Transpose of array 2: \", arr2.T)"
   ]
  },
  {
   "cell_type": "code",
   "execution_count": 98,
   "id": "3ae8539d-2d39-48e4-9aa0-2c4edfd2880d",
   "metadata": {},
   "outputs": [
    {
     "name": "stdout",
     "output_type": "stream",
     "text": [
      "determinant is:  6.66133814775094e-16\n",
      "inverse is:  [[-4.50359963e+15  9.00719925e+15 -4.50359963e+15]\n",
      " [ 9.00719925e+15 -1.80143985e+16  9.00719925e+15]\n",
      " [-4.50359963e+15  9.00719925e+15 -4.50359963e+15]]\n"
     ]
    }
   ],
   "source": [
    "det = np.linalg.det(arr1)\n",
    "print(\"determinant is: \", det)\n",
    "\n",
    "if det!=0 :\n",
    "    print(\"inverse is: \", np.linalg.inv(arr1))\n",
    "else:\n",
    "    print(\"Matrix is not invertible\")"
   ]
  },
  {
   "cell_type": "code",
   "execution_count": null,
   "id": "6af149ca-ad4a-40a9-99a8-346c11c87800",
   "metadata": {},
   "outputs": [],
   "source": []
  },
  {
   "cell_type": "code",
   "execution_count": null,
   "id": "3323c348-4f4b-4740-b349-209f39c80719",
   "metadata": {},
   "outputs": [],
   "source": []
  }
 ],
 "metadata": {
  "kernelspec": {
   "display_name": "Python [conda env:base] *",
   "language": "python",
   "name": "conda-base-py"
  },
  "language_info": {
   "codemirror_mode": {
    "name": "ipython",
    "version": 3
   },
   "file_extension": ".py",
   "mimetype": "text/x-python",
   "name": "python",
   "nbconvert_exporter": "python",
   "pygments_lexer": "ipython3",
   "version": "3.12.7"
  }
 },
 "nbformat": 4,
 "nbformat_minor": 5
}
